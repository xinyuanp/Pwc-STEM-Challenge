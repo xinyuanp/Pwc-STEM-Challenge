{
 "cells": [
  {
   "cell_type": "code",
   "execution_count": 2,
   "metadata": {},
   "outputs": [],
   "source": [
    "#pip install dash\n",
    "#pip install dash-renderer\n",
    "#pip install dash-html-components\n",
    "#pip install dash-core-components\n",
    "#pip install plotly"
   ]
  },
  {
   "cell_type": "markdown",
   "metadata": {},
   "source": [
    "# Model (Package)"
   ]
  },
  {
   "cell_type": "code",
   "execution_count": 1,
   "metadata": {},
   "outputs": [
    {
     "data": {
      "text/plain": [
       "<torch._C.Generator at 0x7fbb2f27a2d0>"
      ]
     },
     "execution_count": 1,
     "metadata": {},
     "output_type": "execute_result"
    }
   ],
   "source": [
    "from flair.data import Sentence\n",
    "import torch\n",
    "import torch.autograd as autograd\n",
    "import torch.nn as nn\n",
    "import torch.optim as optim\n",
    "import torch.nn.functional as F\n",
    "from flair.embeddings import TransformerWordEmbeddings,StackedEmbeddings,WordEmbeddings,BytePairEmbeddings\n",
    "from tqdm import tqdm\n",
    "import datetime\n",
    "from sklearn.model_selection import train_test_split\n",
    "torch.manual_seed(1)"
   ]
  },
  {
   "cell_type": "markdown",
   "metadata": {},
   "source": [
    "# UI"
   ]
  },
  {
   "cell_type": "markdown",
   "metadata": {},
   "source": [
    "## Package"
   ]
  },
  {
   "cell_type": "code",
   "execution_count": 2,
   "metadata": {},
   "outputs": [],
   "source": [
    "import dash\n",
    "import dash_core_components as dcc\n",
    "import dash_html_components as html\n",
    "import plotly.express as px\n",
    "import pandas as pd\n",
    "from dash.dependencies import Input, Output, State\n",
    "import base64\n",
    "import datetime\n",
    "import io\n",
    "import dash_table\n",
    "import pandas as pd\n",
    "import base64\n",
    "import io"
   ]
  },
  {
   "cell_type": "markdown",
   "metadata": {},
   "source": [
    "## Layout"
   ]
  },
  {
   "cell_type": "code",
   "execution_count": 3,
   "metadata": {},
   "outputs": [],
   "source": [
    "colors = {\n",
    "    'background': '#B8D1DE',\n",
    "    'text': '#454E53',\n",
    "    'c1': '#DBE8EE',\n",
    "    'c2':'#F6F9FB'\n",
    "}"
   ]
  },
  {
   "cell_type": "code",
   "execution_count": 4,
   "metadata": {},
   "outputs": [],
   "source": [
    "external_stylesheets = ['https://codepen.io/chriddyp/pen/bWLwgP.css']\n",
    "app = dash.Dash(__name__, external_stylesheets=external_stylesheets)"
   ]
  },
  {
   "cell_type": "code",
   "execution_count": 5,
   "metadata": {},
   "outputs": [],
   "source": [
    "app.layout = html.Div(style={'backgroundColor': colors['c2']}, children = [\n",
    "                # 标题\n",
    "                html.Div(\n",
    "                    id=\"banner\",\n",
    "                    className=\"banner\",\n",
    "                    children=[html.H2(\"增值税编码分类器\")],\n",
    "                    style={'textAlign': 'center',\n",
    "                          'color': colors['text']}\n",
    "                ),\n",
    "                # Tab\n",
    "                dcc.Tabs([\n",
    "                    # Label 1\n",
    "                    dcc.Tab(label='编码搜索', children=[\n",
    "                        \n",
    "                        # 左侧栏\n",
    "                        html.Div(\n",
    "                            id=\"left-column\",\n",
    "                            className=\"four columns\",\n",
    "                            style={'textAlign': 'left',\n",
    "                                   'backgroundColor': colors['c1']},\n",
    "                            children=[\n",
    "                            # Input\n",
    "                            html.Br(),\n",
    "                            html.H6(\"输入商品名称：\"),\n",
    "                            html.Div(dcc.Input(id='input-on-submit', type='text', placeholder=\"商品\")),\n",
    "                            html.Button('Submit', id='submit-val', n_clicks=0),\n",
    "                            # Slider\n",
    "                            html.Br(),\n",
    "                            html.Br(),\n",
    "                            html.H6('选择输出数量：'),\n",
    "                            html.Div(dcc.Slider(\n",
    "                                id='num_slider',\n",
    "                                min=0,\n",
    "                                max=5,\n",
    "                                marks={i: 'Label {}'.format(i) if i == 1 else str(i) for i in range(1, 6)},\n",
    "                                value=5,\n",
    "                            )),\n",
    "                            # 下拉栏\n",
    "                            html.Br(),\n",
    "                            html.Br(),\n",
    "                            html.H6('选择正确编码：'),\n",
    "                            dcc.Markdown('''（如果右侧表格内无正确分类可在此选择正确分类，帮助提升搜索的准确性）'''),\n",
    "                            html.Div([\n",
    "                                dcc.Dropdown(\n",
    "                                    id='demo-dropdown',\n",
    "                                    options=[{'label': pd.read_excel('best_5.xlsx')[\"合并栏\"].iloc[i], 'value': pd.read_excel('best_5.xlsx')[\"label\"].iloc[i]} for i in range(len(pd.read_excel('best_5.xlsx')))],\n",
    "                                    placeholder=\"输入商品的正确编码\"\n",
    "                                ),\n",
    "                                html.Div(id='dd-output-container')\n",
    "                            ]),\n",
    "                            html.Br(),\n",
    "                            html.Br(),\n",
    "                            html.Br(),\n",
    "                        ]),\n",
    "                        # Output\n",
    "                        html.Div([\n",
    "                            html.Div(id='container-button-basic',\n",
    "                                     children='商品编码表',\n",
    "                                     style={'textAlign': 'left',\n",
    "                                            'backgroundColor': colors['c2'],\n",
    "                                            'font-size': '11.5px'})\n",
    "                        ]),\n",
    "                    ]),\n",
    "                    \n",
    "                    # Label 2\n",
    "                    dcc.Tab(label='模型训练', id='field-dropdown', children=[\n",
    "                        # 例子下载\n",
    "                        html.Div([\n",
    "                            html.Br(),\n",
    "                            html.Br(),\n",
    "                            html.H6('上传表格示例'),\n",
    "                            dcc.Markdown('''（保证列名与下表相符）'''),\n",
    "                            html.Div(id='table'),\n",
    "                            html.A(\n",
    "                                'Download Data',\n",
    "                                id='download-link',\n",
    "                                download=\"rawdata.csv\",\n",
    "                                href=\"\",\n",
    "                                target=\"_blank\"\n",
    "                            )\n",
    "                        ]),\n",
    "                        \n",
    "                        # Train new data\n",
    "                        html.Div([\n",
    "                            html.Br(),\n",
    "                            html.Br(),\n",
    "                            dcc.Markdown('''在下方上传表格开始训练模型，模型训练好后会提示“训练完成”'''),\n",
    "                            dcc.Upload(\n",
    "                                id='upload-data',\n",
    "                                children=html.Div([\n",
    "                                    'Drag and Drop or ',\n",
    "                                    html.A('Select Files')\n",
    "                                ]),\n",
    "                                style={\n",
    "                                    'width': '100%',\n",
    "                                    'height': '60px',\n",
    "                                    'lineHeight': '60px',\n",
    "                                    'borderWidth': '1px',\n",
    "                                    'borderStyle': 'dashed',\n",
    "                                    'borderRadius': '5px',\n",
    "                                    'textAlign': 'center',\n",
    "                                    'margin': '10px'\n",
    "                                },\n",
    "                                # Not Allow multiple files to be uploaded\n",
    "                                multiple=False\n",
    "                            ),\n",
    "                            html.Br(),\n",
    "                            html.Div(id='output-data-upload'),\n",
    "                            html.Br(),\n",
    "                        ])\n",
    "                    ]),\n",
    "                ], colors={\"border\": colors['c2'],\n",
    "                           \"primary\": colors['text'],\n",
    "                           \"background\": colors['background']\n",
    "                        })\n",
    "             ])\n",
    "    "
   ]
  },
  {
   "cell_type": "markdown",
   "metadata": {},
   "source": [
    "## Callback"
   ]
  },
  {
   "cell_type": "markdown",
   "metadata": {},
   "source": [
    "### Callback for In & Out"
   ]
  },
  {
   "cell_type": "code",
   "execution_count": 6,
   "metadata": {},
   "outputs": [],
   "source": [
    "class BiLSTM(nn.Module):\n",
    "    def __init__(self, tag_to_ix,hidden_dim):\n",
    "        super(BiLSTM, self).__init__()\n",
    "        self.hidden_dim = hidden_dim\n",
    "        self.lstm = nn.LSTM(3472, hidden_dim // 2,\n",
    "                            num_layers=1, bidirectional=True)\n",
    "        self.hidden2tag = nn.Linear(hidden_dim,len(tag_to_ix))\n",
    "\n",
    "    def init_hidden(self):\n",
    "        return (torch.randn(2, 1, self.hidden_dim // 2).to(device),\n",
    "                torch.randn(2, 1, self.hidden_dim // 2).to(device))\n",
    "\n",
    "    def forward(self, embeddings):\n",
    "        self.hidden = self.init_hidden()\n",
    "        embeds = embeddings.view(embeddings.shape[0], 1, -1)\n",
    "        lstm_out, self.hidden = self.lstm(embeds)\n",
    "        lstm_out = lstm_out[0].view(-1, self.hidden_dim)\n",
    "        lstm_feats = self.hidden2tag(lstm_out)\n",
    "        return lstm_feats"
   ]
  },
  {
   "cell_type": "code",
   "execution_count": 7,
   "metadata": {},
   "outputs": [],
   "source": [
    "word_embedding = WordEmbeddings('zh')\n",
    "byte_embedding = BytePairEmbeddings('zh')\n",
    "bert_embedding = TransformerWordEmbeddings('bert-base-chinese')\n",
    "stacked_embeddings = StackedEmbeddings(embeddings=[word_embedding,byte_embedding,bert_embedding])"
   ]
  },
  {
   "cell_type": "code",
   "execution_count": 8,
   "metadata": {},
   "outputs": [],
   "source": [
    "device = torch.device(\"cuda\" if torch.cuda.is_available() else \"cpu\")"
   ]
  },
  {
   "cell_type": "code",
   "execution_count": 9,
   "metadata": {},
   "outputs": [],
   "source": [
    "def main(item, num):    \n",
    "    model = torch.load('model.pt')\n",
    "    \n",
    "    def argmax(vec,k):\n",
    "        prob, idx = torch.torch.topk(vec, k)\n",
    "        return prob.tolist(),idx.tolist()\n",
    "    test_embedding_matrix = []\n",
    "    for i in tqdm(range(1)):\n",
    "            embeddings = []\n",
    "            sentence = Sentence(item)\n",
    "            stacked_embeddings.embed(sentence)\n",
    "            for token in sentence:\n",
    "              embeddings.append(token.embedding)\n",
    "            embeddings = torch.stack(embeddings)\n",
    "            embeddings = embeddings.view(-1,1,3472)\n",
    "            test_embedding_matrix.append(embeddings)\n",
    "    for i in range(1):\n",
    "      embedding = test_embedding_matrix[i]\n",
    "      model.eval()\n",
    "      result = model(embedding)\n",
    "      prob = F.softmax(result,dim=1)\n",
    "      prob = argmax(prob,num)\n",
    "      output = [item for sublist in prob[1] for item in sublist]\n",
    "      prob = [item for sublist in prob[0] for item in sublist]\n",
    "      return output\n"
   ]
  },
  {
   "cell_type": "code",
   "execution_count": 10,
   "metadata": {},
   "outputs": [],
   "source": [
    "@app.callback(\n",
    "    dash.dependencies.Output('container-button-basic', 'children'),\n",
    "    [dash.dependencies.Input('submit-val', 'n_clicks'),\n",
    "     dash.dependencies.Input('num_slider', 'value')],\n",
    "    [dash.dependencies.State('input-on-submit', 'value')])\n",
    "def update_output(n_clicks, num, item): \n",
    "    b_5 = pd.read_excel('best_5.xlsx', index_col = 0)\n",
    "    output = main(item, num)\n",
    "    return html.Table([\n",
    "        html.Thead(\n",
    "            html.Tr([html.Th(col) for col in ['编码','货物和劳务名称','商品和服务分类简称','说明']])\n",
    "        ),\n",
    "        html.Tbody([\n",
    "            html.Tr([\n",
    "                html.Td(b_5.iloc[i][col]) for col in [0,2,3,4]\n",
    "            ]) for i in output\n",
    "        ])\n",
    "    ])"
   ]
  },
  {
   "cell_type": "markdown",
   "metadata": {},
   "source": [
    "### Callback for Dropdown"
   ]
  },
  {
   "cell_type": "code",
   "execution_count": 11,
   "metadata": {},
   "outputs": [],
   "source": [
    "def online_learning(X_train,y_train,lr=0.0001,epoch=15):\n",
    "    model = torch.load('model.pt')\n",
    "    \n",
    "    train_embedding_matrix = []\n",
    "    for i in tqdm(range(len(X_train))):\n",
    "        embeddings = []\n",
    "        sentence = Sentence(X_train[i])\n",
    "        stacked_embeddings.embed(sentence)\n",
    "        for token in sentence:\n",
    "          embeddings.append(token.embedding)\n",
    "        embeddings = torch.stack(embeddings)\n",
    "        embeddings = embeddings.view(-1,1,3472)\n",
    "        train_embedding_matrix.append(embeddings)\n",
    "    optimizer = optim.AdamW(model.parameters(), lr=lr, weight_decay=1e-4)\n",
    "    criterion = nn.CrossEntropyLoss()\n",
    "    for epoch in range(epoch): \n",
    "        train_loss = 0\n",
    "        model.train()\n",
    "        for i in tqdm(range(len(X_train))):\n",
    "            embeddings = train_embedding_matrix[i]\n",
    "            tags_index = y_train[i]\n",
    "            model.zero_grad()\n",
    "            outputs = model(embeddings)\n",
    "            targets = torch.tensor(tags_index, dtype=torch.long).to(device)\n",
    "            loss = criterion(outputs,targets)\n",
    "            loss.backward()\n",
    "            optimizer.step()\n",
    "            train_loss+=loss.item()  \n",
    "    torch.save(model,'model.pt')"
   ]
  },
  {
   "cell_type": "code",
   "execution_count": 12,
   "metadata": {},
   "outputs": [],
   "source": [
    "@app.callback(\n",
    "    dash.dependencies.Output('dd-output-container', 'children'),\n",
    "    [dash.dependencies.Input('demo-dropdown', 'value')],\n",
    "    [dash.dependencies.State('input-on-submit', 'value')])\n",
    "def update_output(dropdown, input_value):\n",
    "    online_learning([input_value], [[dropdown]])\n",
    "    return html.H6(\"选择成功\")"
   ]
  },
  {
   "cell_type": "markdown",
   "metadata": {},
   "source": [
    "### Callback for Example Download"
   ]
  },
  {
   "cell_type": "code",
   "execution_count": 13,
   "metadata": {},
   "outputs": [],
   "source": [
    "df_down = pd.DataFrame({\n",
    "    '商品名称': ['甜奶油', '铝盖PET胶瓶'],\n",
    "    '税收分类编码': [1030204020000000000,1070601120000000000],\n",
    "    '搜索项': ['金钻甜奶油 植物淡奶油 做蛋糕裱花原料1kg', '透明塑料食品罐 密封罐 储物罐子']\n",
    "})"
   ]
  },
  {
   "cell_type": "code",
   "execution_count": 14,
   "metadata": {},
   "outputs": [],
   "source": [
    "def generate_table(dataframe, max_rows=10):\n",
    "    return html.Table(\n",
    "        # Header\n",
    "        [html.Tr([html.Th(col) for col in dataframe.columns])] +\n",
    "\n",
    "        # Body\n",
    "        [html.Tr([\n",
    "            html.Td(dataframe.iloc[i][col]) for col in dataframe.columns\n",
    "        ]) for i in range(min(len(dataframe), max_rows))]\n",
    "    )"
   ]
  },
  {
   "cell_type": "code",
   "execution_count": 15,
   "metadata": {},
   "outputs": [],
   "source": [
    "@app.callback(\n",
    "    dash.dependencies.Output('table', 'children'),\n",
    "    [dash.dependencies.Input('field-dropdown', 'value')])\n",
    "def update_table(filter_value):\n",
    "    return generate_table(df_down)"
   ]
  },
  {
   "cell_type": "code",
   "execution_count": 16,
   "metadata": {},
   "outputs": [],
   "source": [
    "@app.callback(\n",
    "    dash.dependencies.Output('download-link', 'href'),\n",
    "    [dash.dependencies.Input('field-dropdown', 'value')])\n",
    "def update_download_link(filter_value):\n",
    "    csv_string = df_down.to_csv(index=False, encoding='utf-8')\n",
    "    csv_string = \"data:text/csv;charset=utf-8,%EF%BB%BF\" + urllib.parse.quote(csv_string)\n",
    "    return csv_string"
   ]
  },
  {
   "cell_type": "markdown",
   "metadata": {},
   "source": [
    "### Callback for Trainning new model"
   ]
  },
  {
   "cell_type": "code",
   "execution_count": 17,
   "metadata": {},
   "outputs": [],
   "source": [
    "def get_file(contents, filename, date):\n",
    "    content_type, content_string = contents.split(',')\n",
    "\n",
    "    decoded = base64.b64decode(content_string)\n",
    "    try:\n",
    "        if 'csv' in filename:\n",
    "            # Assume that the user uploaded a CSV file\n",
    "            df = pd.read_csv(\n",
    "                io.StringIO(decoded.decode('utf-8')))\n",
    "        elif 'xls' in filename:\n",
    "            # Assume that the user uploaded an excel file\n",
    "            df = pd.read_excel(io.BytesIO(decoded))\n",
    "    except Exception as e:\n",
    "        print(e)\n",
    "        return html.Div([\n",
    "            'There was an error processing this file.'\n",
    "        ])\n",
    "\n",
    "    return df"
   ]
  },
  {
   "cell_type": "code",
   "execution_count": 18,
   "metadata": {},
   "outputs": [],
   "source": [
    "def get_model(data):\n",
    "    X = data['搜索项'].values\n",
    "    y = data['税收分类编码'].values\n",
    "    \n",
    "    def to_index(data, to_ix):\n",
    "        input_index_list = []\n",
    "        for sent in data:\n",
    "            input_index_list.append([to_ix[sent]])\n",
    "        return input_index_list\n",
    "    \n",
    "    def to_index(data, to_ix):\n",
    "        input_index_list = []\n",
    "        for sent in data:\n",
    "            input_index_list.append([to_ix[sent]])\n",
    "        return input_index_list\n",
    "    \n",
    "    tag_to_ix = {}\n",
    "    for tag in y:\n",
    "      if tag not in tag_to_ix:\n",
    "        tag_to_ix[tag] = len(tag_to_ix)\n",
    "        \n",
    "    y = to_index(y,tag_to_ix)\n",
    "    \n",
    "    X_train, X_test, y_train, y_test = train_test_split(X,y,test_size=0.33)\n",
    "    \n",
    "    train_embedding_matrix = []\n",
    "    for i in tqdm(range(len(X_train))):\n",
    "            embeddings = []\n",
    "            sentence = Sentence(X_train[i])\n",
    "            stacked_embeddings.embed(sentence)\n",
    "            for token in sentence:\n",
    "              embeddings.append(token.embedding)\n",
    "            embeddings = torch.stack(embeddings)\n",
    "            embeddings = embeddings.view(-1,1,3472)\n",
    "            train_embedding_matrix.append(embeddings)\n",
    "    \n",
    "    test_embedding_matrix = []\n",
    "    for i in tqdm(range(len(X_test))):\n",
    "            embeddings = []\n",
    "            sentence = Sentence(X_test[i])\n",
    "            stacked_embeddings.embed(sentence)\n",
    "            for token in sentence:\n",
    "              embeddings.append(token.embedding)\n",
    "            embeddings = torch.stack(embeddings)\n",
    "            embeddings = embeddings.view(-1,1,3472)\n",
    "            test_embedding_matrix.append(embeddings)\n",
    "    \n",
    "    device = torch.device(\"cuda\" if torch.cuda.is_available() else \"cpu\")\n",
    "    model = BiLSTM(tag_to_ix,400).to(device)\n",
    "    \n",
    "    optimizer = optim.AdamW(model.parameters(), lr=0.00001, weight_decay=1e-4)\n",
    "    criterion = nn.CrossEntropyLoss()\n",
    "    best_model = None\n",
    "    best_accuracy = 0\n",
    "    for epoch in range(15):  \n",
    "        train_loss = 0\n",
    "        model.train()\n",
    "        for i in tqdm(range(len(X_train))):\n",
    "            embeddings = train_embedding_matrix[i]\n",
    "            tags_index = y_train[i]\n",
    "            model.zero_grad()\n",
    "            outputs = model(embeddings)\n",
    "            targets = torch.tensor(tags_index, dtype=torch.long).to(device)\n",
    "            loss = criterion(outputs,targets)\n",
    "            loss.backward()\n",
    "            optimizer.step()\n",
    "            train_loss+=loss.item()  \n",
    "    \n",
    "    torch.save(model, 'model.pt')\n",
    "    return tag_to_ix\n",
    "            \n",
    "    "
   ]
  },
  {
   "cell_type": "code",
   "execution_count": 19,
   "metadata": {},
   "outputs": [],
   "source": [
    "def merged_label(tag_to_ix, data = pd.read_excel('分类编码表_4col.xlsx',index_col=0)):\n",
    "    df = pd.DataFrame(tag_to_ix.items(),columns=['编码', 'label'])\n",
    "    df_1 = df.merge(data, left_on='编码', right_on='合并编码', suffixes=(False, False), how= 'left')\n",
    "    df_2 = df_1.sort_values(by=['label'],ascending=True)\n",
    "    df_2[\"合并栏\"] = df_2[\"编码\"].astype(str) + df_2[\"货物和劳务名称\"]\n",
    "    return df_2.to_excel(\"best_5.xlsx\")"
   ]
  },
  {
   "cell_type": "code",
   "execution_count": 20,
   "metadata": {},
   "outputs": [],
   "source": [
    "@app.callback(Output('output-data-upload', 'children'),\n",
    "              [Input('upload-data', 'contents')],\n",
    "              [State('upload-data', 'filename'),\n",
    "               State('upload-data', 'last_modified')])\n",
    "def update_output(list_of_contents, list_of_names, list_of_dates):\n",
    "    if list_of_contents is not None:\n",
    "        #html.H3(\"Updating...\")\n",
    "        df = get_file(list_of_contents, list_of_names, list_of_dates)\n",
    "        tag = get_model(df)\n",
    "        merged_label(tag)\n",
    "        return html.H6(\"训练完成\")"
   ]
  },
  {
   "cell_type": "code",
   "execution_count": null,
   "metadata": {},
   "outputs": [
    {
     "name": "stdout",
     "output_type": "stream",
     "text": [
      "Dash is running on http://127.0.0.1:8050/\n",
      "\n",
      " Warning: This is a development server. Do not use app.run_server\n",
      " in production, use a production WSGI server like gunicorn instead.\n",
      "\n",
      " * Serving Flask app \"__main__\" (lazy loading)\n",
      " * Environment: production\n",
      "\u001b[31m   WARNING: This is a development server. Do not use it in a production deployment.\u001b[0m\n",
      "\u001b[2m   Use a production WSGI server instead.\u001b[0m\n",
      " * Debug mode: off\n"
     ]
    },
    {
     "name": "stderr",
     "output_type": "stream",
     "text": [
      " * Running on http://127.0.0.1:8050/ (Press CTRL+C to quit)\n",
      "127.0.0.1 - - [31/Jul/2020 09:59:33] \"\u001b[37mGET / HTTP/1.1\u001b[0m\" 200 -\n",
      "127.0.0.1 - - [31/Jul/2020 09:59:34] \"\u001b[37mGET /_dash-dependencies HTTP/1.1\u001b[0m\" 200 -\n",
      "127.0.0.1 - - [31/Jul/2020 09:59:34] \"\u001b[37mGET /_dash-layout HTTP/1.1\u001b[0m\" 200 -\n",
      "127.0.0.1 - - [31/Jul/2020 09:59:34] \"\u001b[37mPOST /_dash-update-component HTTP/1.1\u001b[0m\" 200 -\n",
      "127.0.0.1 - - [31/Jul/2020 09:59:34] \"\u001b[37mPOST /_dash-update-component HTTP/1.1\u001b[0m\" 200 -\n",
      "  0%|          | 0/1 [00:00<?, ?it/s]"
     ]
    },
    {
     "name": "stdout",
     "output_type": "stream",
     "text": [
      "Exception on /_dash-update-component [POST]\n",
      "Traceback (most recent call last):\n",
      "  File \"/Library/Frameworks/Python.framework/Versions/3.7/lib/python3.7/site-packages/flask/app.py\", line 2447, in wsgi_app\n",
      "    response = self.full_dispatch_request()\n",
      "  File \"/Library/Frameworks/Python.framework/Versions/3.7/lib/python3.7/site-packages/flask/app.py\", line 1952, in full_dispatch_request\n",
      "    rv = self.handle_user_exception(e)\n",
      "  File \"/Library/Frameworks/Python.framework/Versions/3.7/lib/python3.7/site-packages/flask/app.py\", line 1821, in handle_user_exception\n",
      "    reraise(exc_type, exc_value, tb)\n",
      "  File \"/Library/Frameworks/Python.framework/Versions/3.7/lib/python3.7/site-packages/flask/_compat.py\", line 39, in reraise\n",
      "    raise value\n",
      "  File \"/Library/Frameworks/Python.framework/Versions/3.7/lib/python3.7/site-packages/flask/app.py\", line 1950, in full_dispatch_request\n",
      "    rv = self.dispatch_request()\n",
      "  File \"/Library/Frameworks/Python.framework/Versions/3.7/lib/python3.7/site-packages/flask/app.py\", line 1936, in dispatch_request\n",
      "    return self.view_functions[rule.endpoint](**req.view_args)\n",
      "  File \"/Library/Frameworks/Python.framework/Versions/3.7/lib/python3.7/site-packages/dash/dash.py\", line 1031, in dispatch\n",
      "    response.set_data(func(*args, outputs_list=outputs_list))\n",
      "  File \"/Library/Frameworks/Python.framework/Versions/3.7/lib/python3.7/site-packages/dash/dash.py\", line 966, in add_context\n",
      "    output_value = func(*args, **kwargs)  # %% callback invoked %%\n",
      "  File \"<ipython-input-16-5e6e52c23043>\", line 6, in update_download_link\n",
      "    csv_string = \"data:text/csv;charset=utf-8,%EF%BB%BF\" + urllib.parse.quote(csv_string)\n",
      "NameError: name 'urllib' is not defined\n"
     ]
    },
    {
     "name": "stderr",
     "output_type": "stream",
     "text": [
      "\n",
      "127.0.0.1 - - [31/Jul/2020 09:59:34] \"\u001b[35m\u001b[1mPOST /_dash-update-component HTTP/1.1\u001b[0m\" 500 -\n",
      "  0%|          | 0/1 [00:00<?, ?it/s]\u001b[A\n",
      "  0%|          | 0/1 [00:00<?, ?it/s]"
     ]
    },
    {
     "name": "stdout",
     "output_type": "stream",
     "text": [
      "Exception on /_dash-update-component [POST]\n",
      "Traceback (most recent call last):\n",
      "  File \"/Library/Frameworks/Python.framework/Versions/3.7/lib/python3.7/site-packages/flask/app.py\", line 2447, in wsgi_app\n",
      "    response = self.full_dispatch_request()\n",
      "  File \"/Library/Frameworks/Python.framework/Versions/3.7/lib/python3.7/site-packages/flask/app.py\", line 1952, in full_dispatch_request\n",
      "    rv = self.handle_user_exception(e)\n",
      "  File \"/Library/Frameworks/Python.framework/Versions/3.7/lib/python3.7/site-packages/flask/app.py\", line 1821, in handle_user_exception\n",
      "    reraise(exc_type, exc_value, tb)\n",
      "  File \"/Library/Frameworks/Python.framework/Versions/3.7/lib/python3.7/site-packages/flask/_compat.py\", line 39, in reraise\n",
      "    raise value\n",
      "  File \"/Library/Frameworks/Python.framework/Versions/3.7/lib/python3.7/site-packages/flask/app.py\", line 1950, in full_dispatch_request\n",
      "    rv = self.dispatch_request()\n",
      "  File \"/Library/Frameworks/Python.framework/Versions/3.7/lib/python3.7/site-packages/flask/app.py\", line 1936, in dispatch_request\n",
      "    return self.view_functions[rule.endpoint](**req.view_args)\n",
      "  File \"/Library/Frameworks/Python.framework/Versions/3.7/lib/python3.7/site-packages/dash/dash.py\", line 1031, in dispatch\n",
      "    response.set_data(func(*args, outputs_list=outputs_list))\n",
      "  File \"/Library/Frameworks/Python.framework/Versions/3.7/lib/python3.7/site-packages/dash/dash.py\", line 966, in add_context\n",
      "    output_value = func(*args, **kwargs)  # %% callback invoked %%\n",
      "  File \"<ipython-input-12-ae44fd7758ad>\", line 6, in update_output\n",
      "    online_learning([input_value], [[dropdown]])\n",
      "  File \"<ipython-input-11-52339ae40ee2>\", line 11, in online_learning\n",
      "    embeddings = torch.stack(embeddings)\n",
      "RuntimeError: stack expects a non-empty TensorList\n"
     ]
    },
    {
     "name": "stderr",
     "output_type": "stream",
     "text": [
      "127.0.0.1 - - [31/Jul/2020 09:59:34] \"\u001b[35m\u001b[1mPOST /_dash-update-component HTTP/1.1\u001b[0m\" 500 -\n",
      "\n"
     ]
    },
    {
     "name": "stdout",
     "output_type": "stream",
     "text": [
      "Exception on /_dash-update-component [POST]\n",
      "Traceback (most recent call last):\n",
      "  File \"/Library/Frameworks/Python.framework/Versions/3.7/lib/python3.7/site-packages/flask/app.py\", line 2447, in wsgi_app\n",
      "    response = self.full_dispatch_request()\n",
      "  File \"/Library/Frameworks/Python.framework/Versions/3.7/lib/python3.7/site-packages/flask/app.py\", line 1952, in full_dispatch_request\n",
      "    rv = self.handle_user_exception(e)\n",
      "  File \"/Library/Frameworks/Python.framework/Versions/3.7/lib/python3.7/site-packages/flask/app.py\", line 1821, in handle_user_exception\n",
      "    reraise(exc_type, exc_value, tb)\n",
      "  File \"/Library/Frameworks/Python.framework/Versions/3.7/lib/python3.7/site-packages/flask/_compat.py\", line 39, in reraise\n",
      "    raise value\n",
      "  File \"/Library/Frameworks/Python.framework/Versions/3.7/lib/python3.7/site-packages/flask/app.py\", line 1950, in full_dispatch_request\n",
      "    rv = self.dispatch_request()\n",
      "  File \"/Library/Frameworks/Python.framework/Versions/3.7/lib/python3.7/site-packages/flask/app.py\", line 1936, in dispatch_request\n",
      "    return self.view_functions[rule.endpoint](**req.view_args)\n",
      "  File \"/Library/Frameworks/Python.framework/Versions/3.7/lib/python3.7/site-packages/dash/dash.py\", line 1031, in dispatch\n",
      "    response.set_data(func(*args, outputs_list=outputs_list))\n",
      "  File \"/Library/Frameworks/Python.framework/Versions/3.7/lib/python3.7/site-packages/dash/dash.py\", line 966, in add_context\n",
      "    output_value = func(*args, **kwargs)  # %% callback invoked %%\n",
      "  File \"<ipython-input-10-5db73e0dfebc>\", line 8, in update_output\n",
      "    output = main(item, num)\n",
      "  File \"<ipython-input-9-c58bc5fbb12a>\", line 14, in main\n",
      "    embeddings = torch.stack(embeddings)\n",
      "RuntimeError: stack expects a non-empty TensorList\n"
     ]
    },
    {
     "name": "stderr",
     "output_type": "stream",
     "text": [
      "127.0.0.1 - - [31/Jul/2020 09:59:34] \"\u001b[35m\u001b[1mPOST /_dash-update-component HTTP/1.1\u001b[0m\" 500 -\n",
      "100%|██████████| 1/1 [00:00<00:00,  8.72it/s]\n",
      "127.0.0.1 - - [31/Jul/2020 09:59:40] \"\u001b[37mPOST /_dash-update-component HTTP/1.1\u001b[0m\" 200 -\n",
      "100%|██████████| 1/1 [00:00<00:00, 17.58it/s]\n",
      "127.0.0.1 - - [31/Jul/2020 09:59:42] \"\u001b[37mPOST /_dash-update-component HTTP/1.1\u001b[0m\" 200 -\n",
      "100%|██████████| 1/1 [00:00<00:00, 16.04it/s]\n",
      "127.0.0.1 - - [31/Jul/2020 09:59:43] \"\u001b[37mPOST /_dash-update-component HTTP/1.1\u001b[0m\" 200 -\n",
      "100%|██████████| 1/1 [00:00<00:00, 12.55it/s]\n",
      "127.0.0.1 - - [31/Jul/2020 09:59:45] \"\u001b[37mPOST /_dash-update-component HTTP/1.1\u001b[0m\" 200 -\n",
      "100%|██████████| 1/1 [00:00<00:00, 16.67it/s]\n",
      "127.0.0.1 - - [31/Jul/2020 09:59:46] \"\u001b[37mPOST /_dash-update-component HTTP/1.1\u001b[0m\" 200 -\n"
     ]
    }
   ],
   "source": [
    "if __name__ == '__main__':\n",
    "    app.run_server(debug=False)"
   ]
  },
  {
   "cell_type": "code",
   "execution_count": null,
   "metadata": {},
   "outputs": [],
   "source": []
  }
 ],
 "metadata": {
  "kernelspec": {
   "display_name": "Python 3",
   "language": "python",
   "name": "python3"
  },
  "language_info": {
   "codemirror_mode": {
    "name": "ipython",
    "version": 3
   },
   "file_extension": ".py",
   "mimetype": "text/x-python",
   "name": "python",
   "nbconvert_exporter": "python",
   "pygments_lexer": "ipython3",
   "version": "3.7.8"
  }
 },
 "nbformat": 4,
 "nbformat_minor": 4
}
